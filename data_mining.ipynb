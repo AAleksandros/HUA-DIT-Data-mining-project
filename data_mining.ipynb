{
 "cells": [
  {
   "cell_type": "markdown",
   "metadata": {},
   "source": [
    "## 0. Imports"
   ]
  },
  {
   "cell_type": "code",
   "execution_count": 337,
   "metadata": {},
   "outputs": [],
   "source": [
    "import pandas as pd\n",
    "import re\n",
    "\n",
    "import torch\n",
    "from torch import nn\n",
    "from torchvision.transforms import ToTensor\n",
    "from torchmetrics.classification import BinaryAccuracy\n",
    "from tqdm.notebook import tqdm"
   ]
  },
  {
   "cell_type": "markdown",
   "metadata": {},
   "source": [
    "## 1. Data preparation and cleaning"
   ]
  },
  {
   "cell_type": "markdown",
   "metadata": {},
   "source": [
    "### Load dataset"
   ]
  },
  {
   "cell_type": "code",
   "execution_count": 338,
   "metadata": {},
   "outputs": [],
   "source": [
    "df = pd.read_excel('movies.xlsx')\n",
    "pd.set_option('display.max_columns', None)\n",
    "\n",
    "# Truncate\n",
    "pd.set_option('display.max_rows', False)\n",
    "\n",
    "# Dont truncate\n",
    "# pd.set_option('display.max_rows', None)"
   ]
  },
  {
   "cell_type": "markdown",
   "metadata": {},
   "source": [
    "### Dataset info"
   ]
  },
  {
   "cell_type": "code",
   "execution_count": 339,
   "metadata": {},
   "outputs": [
    {
     "name": "stdout",
     "output_type": "stream",
     "text": [
      "<class 'pandas.core.frame.DataFrame'>\n",
      "RangeIndex: 1402 entries, 0 to 1401\n",
      "Data columns (total 31 columns):\n",
      " #   Column                                   Non-Null Count  Dtype  \n",
      "---  ------                                   --------------  -----  \n",
      " 0   Film                                     1402 non-null   object \n",
      " 1   Year                                     1402 non-null   int64  \n",
      " 2   Script Type                              1402 non-null   object \n",
      " 3   Rotten Tomatoes  critics                 1401 non-null   object \n",
      " 4   Metacritic  critics                      1402 non-null   object \n",
      " 5   Average critics                          1402 non-null   object \n",
      " 6   Rotten Tomatoes Audience                 1401 non-null   float64\n",
      " 7   Metacritic Audience                      1402 non-null   object \n",
      " 8   Rotten Tomatoes vs Metacritic  deviance  1402 non-null   object \n",
      " 9   Average audience                         1402 non-null   object \n",
      " 10  Audience vs Critics deviance             1402 non-null   object \n",
      " 11  Primary Genre                            19 non-null     object \n",
      " 12  Genre                                    1401 non-null   object \n",
      " 13  Opening Weekend                          1402 non-null   object \n",
      " 14  Opening weekend ($million)               1402 non-null   float64\n",
      " 15  Domestic Gross                           1402 non-null   object \n",
      " 16  Domestic gross ($million)                1402 non-null   float64\n",
      " 17  Foreign Gross ($million)                 1402 non-null   object \n",
      " 18  Foreign Gross                            1402 non-null   object \n",
      " 19  Worldwide Gross                          1402 non-null   object \n",
      " 20  Worldwide Gross ($million)               1402 non-null   float64\n",
      " 21   of Gross earned abroad                  1402 non-null   object \n",
      " 22  Budget ($million)                        1402 non-null   object \n",
      " 23   Budget recovered                        1402 non-null   object \n",
      " 24   Budget recovered opening weekend        1402 non-null   object \n",
      " 25  Distributor                              0 non-null      float64\n",
      " 26  IMDb Rating                              0 non-null      float64\n",
      " 27  IMDB vs RT disparity                     0 non-null      float64\n",
      " 28  Release Date (US)                        1402 non-null   object \n",
      " 29  Oscar Winners                            56 non-null     object \n",
      " 30  Oscar Detail                             56 non-null     object \n",
      "dtypes: float64(7), int64(1), object(23)\n",
      "memory usage: 339.7+ KB\n"
     ]
    }
   ],
   "source": [
    "df.info()"
   ]
  },
  {
   "cell_type": "code",
   "execution_count": 340,
   "metadata": {},
   "outputs": [
    {
     "data": {
      "text/html": [
       "<div>\n",
       "<style scoped>\n",
       "    .dataframe tbody tr th:only-of-type {\n",
       "        vertical-align: middle;\n",
       "    }\n",
       "\n",
       "    .dataframe tbody tr th {\n",
       "        vertical-align: top;\n",
       "    }\n",
       "\n",
       "    .dataframe thead th {\n",
       "        text-align: right;\n",
       "    }\n",
       "</style>\n",
       "<table border=\"1\" class=\"dataframe\">\n",
       "  <thead>\n",
       "    <tr style=\"text-align: right;\">\n",
       "      <th></th>\n",
       "      <th>count</th>\n",
       "      <th>mean</th>\n",
       "      <th>std</th>\n",
       "      <th>min</th>\n",
       "      <th>25%</th>\n",
       "      <th>50%</th>\n",
       "      <th>75%</th>\n",
       "      <th>max</th>\n",
       "    </tr>\n",
       "  </thead>\n",
       "  <tbody>\n",
       "    <tr>\n",
       "      <th>Year</th>\n",
       "      <td>1402.0</td>\n",
       "      <td>2012.140514</td>\n",
       "      <td>3.190291</td>\n",
       "      <td>2007.0</td>\n",
       "      <td>2009.0000</td>\n",
       "      <td>2012.000</td>\n",
       "      <td>2015.0000</td>\n",
       "      <td>2017.00</td>\n",
       "    </tr>\n",
       "    <tr>\n",
       "      <th>Rotten Tomatoes Audience</th>\n",
       "      <td>1401.0</td>\n",
       "      <td>62.122769</td>\n",
       "      <td>17.435737</td>\n",
       "      <td>17.0</td>\n",
       "      <td>49.0000</td>\n",
       "      <td>62.000</td>\n",
       "      <td>76.0000</td>\n",
       "      <td>98.00</td>\n",
       "    </tr>\n",
       "    <tr>\n",
       "      <th>Opening weekend ($million)</th>\n",
       "      <td>1402.0</td>\n",
       "      <td>23.200357</td>\n",
       "      <td>28.547541</td>\n",
       "      <td>0.0</td>\n",
       "      <td>6.6025</td>\n",
       "      <td>14.200</td>\n",
       "      <td>28.5975</td>\n",
       "      <td>247.97</td>\n",
       "    </tr>\n",
       "    <tr>\n",
       "      <th>Domestic gross ($million)</th>\n",
       "      <td>1402.0</td>\n",
       "      <td>74.058024</td>\n",
       "      <td>87.389737</td>\n",
       "      <td>0.0</td>\n",
       "      <td>21.0900</td>\n",
       "      <td>44.045</td>\n",
       "      <td>92.5900</td>\n",
       "      <td>936.66</td>\n",
       "    </tr>\n",
       "    <tr>\n",
       "      <th>Worldwide Gross ($million)</th>\n",
       "      <td>1402.0</td>\n",
       "      <td>173.008302</td>\n",
       "      <td>233.859025</td>\n",
       "      <td>0.0</td>\n",
       "      <td>38.0000</td>\n",
       "      <td>88.690</td>\n",
       "      <td>208.7500</td>\n",
       "      <td>2781.50</td>\n",
       "    </tr>\n",
       "    <tr>\n",
       "      <th>Distributor</th>\n",
       "      <td>0.0</td>\n",
       "      <td>NaN</td>\n",
       "      <td>NaN</td>\n",
       "      <td>NaN</td>\n",
       "      <td>NaN</td>\n",
       "      <td>NaN</td>\n",
       "      <td>NaN</td>\n",
       "      <td>NaN</td>\n",
       "    </tr>\n",
       "    <tr>\n",
       "      <th>IMDb Rating</th>\n",
       "      <td>0.0</td>\n",
       "      <td>NaN</td>\n",
       "      <td>NaN</td>\n",
       "      <td>NaN</td>\n",
       "      <td>NaN</td>\n",
       "      <td>NaN</td>\n",
       "      <td>NaN</td>\n",
       "      <td>NaN</td>\n",
       "    </tr>\n",
       "    <tr>\n",
       "      <th>IMDB vs RT disparity</th>\n",
       "      <td>0.0</td>\n",
       "      <td>NaN</td>\n",
       "      <td>NaN</td>\n",
       "      <td>NaN</td>\n",
       "      <td>NaN</td>\n",
       "      <td>NaN</td>\n",
       "      <td>NaN</td>\n",
       "      <td>NaN</td>\n",
       "    </tr>\n",
       "  </tbody>\n",
       "</table>\n",
       "</div>"
      ],
      "text/plain": [
       "                             count         mean         std     min  \\\n",
       "Year                        1402.0  2012.140514    3.190291  2007.0   \n",
       "Rotten Tomatoes Audience    1401.0    62.122769   17.435737    17.0   \n",
       "Opening weekend ($million)  1402.0    23.200357   28.547541     0.0   \n",
       "Domestic gross ($million)   1402.0    74.058024   87.389737     0.0   \n",
       "Worldwide Gross ($million)  1402.0   173.008302  233.859025     0.0   \n",
       "Distributor                    0.0          NaN         NaN     NaN   \n",
       "IMDb Rating                    0.0          NaN         NaN     NaN   \n",
       "IMDB vs RT disparity           0.0          NaN         NaN     NaN   \n",
       "\n",
       "                                  25%       50%        75%      max  \n",
       "Year                        2009.0000  2012.000  2015.0000  2017.00  \n",
       "Rotten Tomatoes Audience      49.0000    62.000    76.0000    98.00  \n",
       "Opening weekend ($million)     6.6025    14.200    28.5975   247.97  \n",
       "Domestic gross ($million)     21.0900    44.045    92.5900   936.66  \n",
       "Worldwide Gross ($million)    38.0000    88.690   208.7500  2781.50  \n",
       "Distributor                       NaN       NaN        NaN      NaN  \n",
       "IMDb Rating                       NaN       NaN        NaN      NaN  \n",
       "IMDB vs RT disparity              NaN       NaN        NaN      NaN  "
      ]
     },
     "execution_count": 340,
     "metadata": {},
     "output_type": "execute_result"
    }
   ],
   "source": [
    "df.describe().T"
   ]
  },
  {
   "cell_type": "code",
   "execution_count": 341,
   "metadata": {},
   "outputs": [
    {
     "data": {
      "text/html": [
       "<div>\n",
       "<style scoped>\n",
       "    .dataframe tbody tr th:only-of-type {\n",
       "        vertical-align: middle;\n",
       "    }\n",
       "\n",
       "    .dataframe tbody tr th {\n",
       "        vertical-align: top;\n",
       "    }\n",
       "\n",
       "    .dataframe thead th {\n",
       "        text-align: right;\n",
       "    }\n",
       "</style>\n",
       "<table border=\"1\" class=\"dataframe\">\n",
       "  <thead>\n",
       "    <tr style=\"text-align: right;\">\n",
       "      <th></th>\n",
       "      <th>count</th>\n",
       "      <th>unique</th>\n",
       "      <th>top</th>\n",
       "      <th>freq</th>\n",
       "    </tr>\n",
       "  </thead>\n",
       "  <tbody>\n",
       "    <tr>\n",
       "      <th>Film</th>\n",
       "      <td>1402</td>\n",
       "      <td>1396</td>\n",
       "      <td>Big Miracle</td>\n",
       "      <td>2</td>\n",
       "    </tr>\n",
       "    <tr>\n",
       "      <th>Script Type</th>\n",
       "      <td>1402</td>\n",
       "      <td>17</td>\n",
       "      <td>original screenplay</td>\n",
       "      <td>546</td>\n",
       "    </tr>\n",
       "    <tr>\n",
       "      <th>Rotten Tomatoes  critics</th>\n",
       "      <td>1401</td>\n",
       "      <td>102</td>\n",
       "      <td>93</td>\n",
       "      <td>29</td>\n",
       "    </tr>\n",
       "    <tr>\n",
       "      <th>Metacritic  critics</th>\n",
       "      <td>1402</td>\n",
       "      <td>90</td>\n",
       "      <td>51</td>\n",
       "      <td>39</td>\n",
       "    </tr>\n",
       "    <tr>\n",
       "      <th>Average critics</th>\n",
       "      <td>1402</td>\n",
       "      <td>196</td>\n",
       "      <td>64</td>\n",
       "      <td>25</td>\n",
       "    </tr>\n",
       "    <tr>\n",
       "      <th>Metacritic Audience</th>\n",
       "      <td>1402</td>\n",
       "      <td>78</td>\n",
       "      <td>66</td>\n",
       "      <td>50</td>\n",
       "    </tr>\n",
       "    <tr>\n",
       "      <th>Rotten Tomatoes vs Metacritic  deviance</th>\n",
       "      <td>1402</td>\n",
       "      <td>82</td>\n",
       "      <td>-1</td>\n",
       "      <td>58</td>\n",
       "    </tr>\n",
       "    <tr>\n",
       "      <th>Average audience</th>\n",
       "      <td>1402</td>\n",
       "      <td>116</td>\n",
       "      <td>58</td>\n",
       "      <td>45</td>\n",
       "    </tr>\n",
       "    <tr>\n",
       "      <th>Audience vs Critics deviance</th>\n",
       "      <td>1402</td>\n",
       "      <td>78</td>\n",
       "      <td>-5</td>\n",
       "      <td>54</td>\n",
       "    </tr>\n",
       "    <tr>\n",
       "      <th>...</th>\n",
       "      <td>...</td>\n",
       "      <td>...</td>\n",
       "      <td>...</td>\n",
       "      <td>...</td>\n",
       "    </tr>\n",
       "    <tr>\n",
       "      <th>Foreign Gross</th>\n",
       "      <td>1402</td>\n",
       "      <td>1308</td>\n",
       "      <td>0</td>\n",
       "      <td>55</td>\n",
       "    </tr>\n",
       "    <tr>\n",
       "      <th>Worldwide Gross</th>\n",
       "      <td>1402</td>\n",
       "      <td>1393</td>\n",
       "      <td>100080000</td>\n",
       "      <td>2</td>\n",
       "    </tr>\n",
       "    <tr>\n",
       "      <th>of Gross earned abroad</th>\n",
       "      <td>1402</td>\n",
       "      <td>1230</td>\n",
       "      <td>0.00%</td>\n",
       "      <td>58</td>\n",
       "    </tr>\n",
       "    <tr>\n",
       "      <th>Budget ($million)</th>\n",
       "      <td>1402</td>\n",
       "      <td>192</td>\n",
       "      <td>20</td>\n",
       "      <td>84</td>\n",
       "    </tr>\n",
       "    <tr>\n",
       "      <th>Budget recovered</th>\n",
       "      <td>1402</td>\n",
       "      <td>1365</td>\n",
       "      <td>-</td>\n",
       "      <td>6</td>\n",
       "    </tr>\n",
       "    <tr>\n",
       "      <th>Budget recovered opening weekend</th>\n",
       "      <td>1402</td>\n",
       "      <td>1266</td>\n",
       "      <td>-</td>\n",
       "      <td>6</td>\n",
       "    </tr>\n",
       "    <tr>\n",
       "      <th>Release Date (US)</th>\n",
       "      <td>1402</td>\n",
       "      <td>671</td>\n",
       "      <td>Apr 7, 2017</td>\n",
       "      <td>7</td>\n",
       "    </tr>\n",
       "    <tr>\n",
       "      <th>Oscar Winners</th>\n",
       "      <td>56</td>\n",
       "      <td>2</td>\n",
       "      <td>Oscar winner</td>\n",
       "      <td>36</td>\n",
       "    </tr>\n",
       "    <tr>\n",
       "      <th>Oscar Detail</th>\n",
       "      <td>56</td>\n",
       "      <td>38</td>\n",
       "      <td>Best Animated Feature</td>\n",
       "      <td>7</td>\n",
       "    </tr>\n",
       "  </tbody>\n",
       "</table>\n",
       "<p>23 rows × 4 columns</p>\n",
       "</div>"
      ],
      "text/plain": [
       "                                        count unique                    top  \\\n",
       "Film                                     1402   1396            Big Miracle   \n",
       "Script Type                              1402     17    original screenplay   \n",
       "Rotten Tomatoes  critics                 1401    102                     93   \n",
       "Metacritic  critics                      1402     90                     51   \n",
       "Average critics                          1402    196                     64   \n",
       "Metacritic Audience                      1402     78                     66   \n",
       "Rotten Tomatoes vs Metacritic  deviance  1402     82                     -1   \n",
       "Average audience                         1402    116                     58   \n",
       "Audience vs Critics deviance             1402     78                     -5   \n",
       "...                                       ...    ...                    ...   \n",
       "Foreign Gross                            1402   1308                      0   \n",
       "Worldwide Gross                          1402   1393              100080000   \n",
       " of Gross earned abroad                  1402   1230                  0.00%   \n",
       "Budget ($million)                        1402    192                     20   \n",
       " Budget recovered                        1402   1365                      -   \n",
       " Budget recovered opening weekend        1402   1266                      -   \n",
       "Release Date (US)                        1402    671            Apr 7, 2017   \n",
       "Oscar Winners                              56      2           Oscar winner   \n",
       "Oscar Detail                               56     38  Best Animated Feature   \n",
       "\n",
       "                                        freq  \n",
       "Film                                       2  \n",
       "Script Type                              546  \n",
       "Rotten Tomatoes  critics                  29  \n",
       "Metacritic  critics                       39  \n",
       "Average critics                           25  \n",
       "Metacritic Audience                       50  \n",
       "Rotten Tomatoes vs Metacritic  deviance   58  \n",
       "Average audience                          45  \n",
       "Audience vs Critics deviance              54  \n",
       "...                                      ...  \n",
       "Foreign Gross                             55  \n",
       "Worldwide Gross                            2  \n",
       " of Gross earned abroad                   58  \n",
       "Budget ($million)                         84  \n",
       " Budget recovered                          6  \n",
       " Budget recovered opening weekend          6  \n",
       "Release Date (US)                          7  \n",
       "Oscar Winners                             36  \n",
       "Oscar Detail                               7  \n",
       "\n",
       "[23 rows x 4 columns]"
      ]
     },
     "execution_count": 341,
     "metadata": {},
     "output_type": "execute_result"
    }
   ],
   "source": [
    "df.describe(include='object').T"
   ]
  },
  {
   "cell_type": "markdown",
   "metadata": {},
   "source": [
    "### Drop empty, unecessary and extraneous columns for classification"
   ]
  },
  {
   "cell_type": "code",
   "execution_count": 342,
   "metadata": {},
   "outputs": [],
   "source": [
    "df = df.drop(['Distributor', 'IMDb Rating', 'IMDB vs RT disparity', 'Opening Weekend', 'Domestic Gross', 'Foreign Gross', 'Worldwide Gross', 'Film', 'Year', 'Release Date (US)', 'Oscar Detail', 'Rotten Tomatoes vs Metacritic  deviance', 'Audience vs Critics deviance ', 'Worldwide Gross ($million)', ' of Gross earned abroad', 'Average audience ', 'Average critics ', ' Budget recovered', ' Budget recovered opening weekend'], axis=1)"
   ]
  },
  {
   "cell_type": "markdown",
   "metadata": {},
   "source": [
    "### Handle missing values"
   ]
  },
  {
   "cell_type": "code",
   "execution_count": 343,
   "metadata": {},
   "outputs": [],
   "source": [
    "missing_data = df.isnull().sum()\n",
    "missing_percentage = (missing_data[missing_data > 0] / df.shape[0]) * 100"
   ]
  },
  {
   "cell_type": "code",
   "execution_count": 344,
   "metadata": {},
   "outputs": [
    {
     "name": "stdout",
     "output_type": "stream",
     "text": [
      "Missing data\n",
      "--------------\n",
      "Script Type                      0\n",
      "Rotten Tomatoes  critics         1\n",
      "Metacritic  critics              0\n",
      "Rotten Tomatoes Audience         1\n",
      "Metacritic Audience              0\n",
      "Primary Genre                 1383\n",
      "Genre                            1\n",
      "Opening weekend ($million)       0\n",
      "Domestic gross ($million)        0\n",
      "Foreign Gross ($million)         0\n",
      "Budget ($million)                0\n",
      "Oscar Winners                 1346\n",
      "dtype: int64\n"
     ]
    }
   ],
   "source": [
    "print('Missing data\\n--------------')\n",
    "print(missing_data)\n"
   ]
  },
  {
   "cell_type": "code",
   "execution_count": 345,
   "metadata": {},
   "outputs": [
    {
     "name": "stdout",
     "output_type": "stream",
     "text": [
      "Missing data percentages\n",
      "--------------\n",
      "Rotten Tomatoes  critics      0.071327\n",
      "Rotten Tomatoes Audience      0.071327\n",
      "Primary Genre                98.644793\n",
      "Genre                         0.071327\n",
      "Oscar Winners                96.005706\n",
      "dtype: float64\n"
     ]
    }
   ],
   "source": [
    "print('Missing data percentages\\n--------------')\n",
    "print(missing_percentage)"
   ]
  },
  {
   "cell_type": "code",
   "execution_count": 346,
   "metadata": {},
   "outputs": [],
   "source": [
    "df = df.dropna(subset=['Genre', 'Rotten Tomatoes  critics', 'Rotten Tomatoes Audience '])"
   ]
  },
  {
   "cell_type": "code",
   "execution_count": 347,
   "metadata": {},
   "outputs": [],
   "source": [
    "# Drop invalid lines\n",
    "df = df[~df.isin(['-']).any(axis=1)]\n",
    "# df[(df == '-').any(axis=1)]"
   ]
  },
  {
   "cell_type": "code",
   "execution_count": 348,
   "metadata": {},
   "outputs": [
    {
     "data": {
      "text/plain": [
       "Script Type                      0\n",
       "Rotten Tomatoes  critics         0\n",
       "Metacritic  critics              0\n",
       "Rotten Tomatoes Audience         0\n",
       "Metacritic Audience              0\n",
       "Primary Genre                 1372\n",
       "Genre                            0\n",
       "Opening weekend ($million)       0\n",
       "Domestic gross ($million)        0\n",
       "Foreign Gross ($million)         0\n",
       "Budget ($million)                0\n",
       "Oscar Winners                 1335\n",
       "dtype: int64"
      ]
     },
     "execution_count": 348,
     "metadata": {},
     "output_type": "execute_result"
    }
   ],
   "source": [
    "missing_data = df.isnull().sum()\n",
    "missing_data"
   ]
  },
  {
   "cell_type": "markdown",
   "metadata": {},
   "source": [
    "### Check for dublicates"
   ]
  },
  {
   "cell_type": "code",
   "execution_count": 349,
   "metadata": {},
   "outputs": [
    {
     "data": {
      "text/plain": [
       "0"
      ]
     },
     "execution_count": 349,
     "metadata": {},
     "output_type": "execute_result"
    }
   ],
   "source": [
    "df.duplicated(keep=False).sum()"
   ]
  },
  {
   "cell_type": "code",
   "execution_count": 350,
   "metadata": {},
   "outputs": [
    {
     "data": {
      "text/html": [
       "<div>\n",
       "<style scoped>\n",
       "    .dataframe tbody tr th:only-of-type {\n",
       "        vertical-align: middle;\n",
       "    }\n",
       "\n",
       "    .dataframe tbody tr th {\n",
       "        vertical-align: top;\n",
       "    }\n",
       "\n",
       "    .dataframe thead th {\n",
       "        text-align: right;\n",
       "    }\n",
       "</style>\n",
       "<table border=\"1\" class=\"dataframe\">\n",
       "  <thead>\n",
       "    <tr style=\"text-align: right;\">\n",
       "      <th></th>\n",
       "      <th>count</th>\n",
       "      <th>mean</th>\n",
       "      <th>std</th>\n",
       "      <th>min</th>\n",
       "      <th>25%</th>\n",
       "      <th>50%</th>\n",
       "      <th>75%</th>\n",
       "      <th>max</th>\n",
       "    </tr>\n",
       "  </thead>\n",
       "  <tbody>\n",
       "    <tr>\n",
       "      <th>Rotten Tomatoes Audience</th>\n",
       "      <td>1391.0</td>\n",
       "      <td>62.048167</td>\n",
       "      <td>17.428369</td>\n",
       "      <td>17.0</td>\n",
       "      <td>49.000</td>\n",
       "      <td>62.00</td>\n",
       "      <td>76.000</td>\n",
       "      <td>98.00</td>\n",
       "    </tr>\n",
       "    <tr>\n",
       "      <th>Opening weekend ($million)</th>\n",
       "      <td>1391.0</td>\n",
       "      <td>23.327541</td>\n",
       "      <td>28.607251</td>\n",
       "      <td>0.0</td>\n",
       "      <td>6.755</td>\n",
       "      <td>14.30</td>\n",
       "      <td>28.720</td>\n",
       "      <td>247.97</td>\n",
       "    </tr>\n",
       "    <tr>\n",
       "      <th>Domestic gross ($million)</th>\n",
       "      <td>1391.0</td>\n",
       "      <td>74.500093</td>\n",
       "      <td>87.569797</td>\n",
       "      <td>0.0</td>\n",
       "      <td>21.440</td>\n",
       "      <td>44.34</td>\n",
       "      <td>93.455</td>\n",
       "      <td>936.66</td>\n",
       "    </tr>\n",
       "  </tbody>\n",
       "</table>\n",
       "</div>"
      ],
      "text/plain": [
       "                             count       mean        std   min     25%    50%  \\\n",
       "Rotten Tomatoes Audience    1391.0  62.048167  17.428369  17.0  49.000  62.00   \n",
       "Opening weekend ($million)  1391.0  23.327541  28.607251   0.0   6.755  14.30   \n",
       "Domestic gross ($million)   1391.0  74.500093  87.569797   0.0  21.440  44.34   \n",
       "\n",
       "                               75%     max  \n",
       "Rotten Tomatoes Audience    76.000   98.00  \n",
       "Opening weekend ($million)  28.720  247.97  \n",
       "Domestic gross ($million)   93.455  936.66  "
      ]
     },
     "execution_count": 350,
     "metadata": {},
     "output_type": "execute_result"
    }
   ],
   "source": [
    "df.describe().T"
   ]
  },
  {
   "cell_type": "markdown",
   "metadata": {},
   "source": [
    "### Convert `script type` and `genre` to categorical values"
   ]
  },
  {
   "cell_type": "code",
   "execution_count": 351,
   "metadata": {},
   "outputs": [],
   "source": [
    "df['Script Type'] = df['Script Type'].str.lower()"
   ]
  },
  {
   "cell_type": "code",
   "execution_count": 352,
   "metadata": {},
   "outputs": [],
   "source": [
    "script_types = df['Script Type'].unique()"
   ]
  },
  {
   "cell_type": "code",
   "execution_count": 353,
   "metadata": {},
   "outputs": [],
   "source": [
    "# Split strings and remove trailing spaces\n",
    "types = []\n",
    "for str in script_types:\n",
    "    types.append(re.split(' / |, ',str))\n",
    "script_types = [j.strip() for sub in types for j in sub]\n",
    "#Convert to set to remove dublicates\n",
    "script_types = set(script_types)"
   ]
  },
  {
   "cell_type": "code",
   "execution_count": 354,
   "metadata": {},
   "outputs": [],
   "source": [
    "# Insert columns for each coresponding script type\n",
    "for i, item in enumerate(script_types):\n",
    "    df.insert(i+1, 'st_'+item, 0)"
   ]
  },
  {
   "cell_type": "code",
   "execution_count": 355,
   "metadata": {},
   "outputs": [],
   "source": [
    "# Assign 1 to each corresponding script type\n",
    "for i in df.index:\n",
    "    for script in script_types:\n",
    "        if script in df.at[i, 'Script Type']:\n",
    "            df.at[i, 'st_'+script] = 1"
   ]
  },
  {
   "cell_type": "code",
   "execution_count": 356,
   "metadata": {},
   "outputs": [],
   "source": [
    "df = df.drop(['Script Type'], axis=1)"
   ]
  },
  {
   "cell_type": "code",
   "execution_count": 357,
   "metadata": {},
   "outputs": [],
   "source": [
    "df = df.drop(['Primary Genre'], axis=1)"
   ]
  },
  {
   "cell_type": "code",
   "execution_count": 358,
   "metadata": {},
   "outputs": [],
   "source": [
    "# Convert genres to lower to avoid possible dublication\n",
    "df['Genre'] = df['Genre'].str.lower()\n",
    "genres = df['Genre'].unique()"
   ]
  },
  {
   "cell_type": "code",
   "execution_count": 359,
   "metadata": {},
   "outputs": [],
   "source": [
    "# Split strings and remove trailing spaces\n",
    "unique_genres = []\n",
    "for str in genres:\n",
    "    unique_genres.append(re.split(', |. ',str))\n",
    "genre_types = [j.strip() for sub in unique_genres for j in sub]\n",
    "\n",
    "#Convert to set to remove dublicates\n",
    "genre_types = set(genre_types)"
   ]
  },
  {
   "cell_type": "code",
   "execution_count": 360,
   "metadata": {},
   "outputs": [],
   "source": [
    "# Remove invalid values\n",
    "genre_types.remove('')\n",
    "genre_types.remove('adventur')\n",
    "genre_types.remove('biograph')\n",
    "genre_types.remove('comed')\n",
    "genre_types.remove('crim')\n",
    "genre_types.remove('documentar')\n",
    "genre_types.remove('dram')\n",
    "genre_types.remove('famiily')\n",
    "genre_types.remove('famil')\n",
    "genre_types.remove('fantas')\n",
    "genre_types.remove('horro')\n",
    "genre_types.remove('musi')\n",
    "genre_types.remove('music')\n",
    "genre_types.remove('myster')\n",
    "genre_types.remove('romanti')\n",
    "genre_types.remove('sci-f')\n",
    "genre_types.remove('sport')\n",
    "genre_types.remove('thriler')\n",
    "genre_types.remove('thrille')"
   ]
  },
  {
   "cell_type": "code",
   "execution_count": 361,
   "metadata": {},
   "outputs": [
    {
     "data": {
      "text/plain": [
       "{'action',\n",
       " 'adventure',\n",
       " 'animation',\n",
       " 'biography',\n",
       " 'comedy',\n",
       " 'crime',\n",
       " 'documentary',\n",
       " 'drama',\n",
       " 'family',\n",
       " 'fantasy',\n",
       " 'history',\n",
       " 'horror',\n",
       " 'musical',\n",
       " 'mystery',\n",
       " 'period',\n",
       " 'romance',\n",
       " 'sci-fi',\n",
       " 'sports',\n",
       " 'thriller',\n",
       " 'war',\n",
       " 'western'}"
      ]
     },
     "execution_count": 361,
     "metadata": {},
     "output_type": "execute_result"
    }
   ],
   "source": [
    "genre_types"
   ]
  },
  {
   "cell_type": "code",
   "execution_count": 362,
   "metadata": {},
   "outputs": [],
   "source": [
    "# Insert columns for each coresponding script type\n",
    "for i, item in enumerate(genre_types):\n",
    "    df.insert(i+8, 'gen_'+item, 0)"
   ]
  },
  {
   "cell_type": "code",
   "execution_count": 363,
   "metadata": {},
   "outputs": [],
   "source": [
    "# Assign 1 to each corresponding script type\n",
    "for i in df.index:\n",
    "    for genre in genre_types:\n",
    "        if genre in df.at[i, 'Genre']:\n",
    "            df.at[i, 'gen_'+genre] = 1"
   ]
  },
  {
   "cell_type": "code",
   "execution_count": 364,
   "metadata": {},
   "outputs": [],
   "source": [
    "df = df.drop(['Genre'], axis=1)"
   ]
  },
  {
   "cell_type": "markdown",
   "metadata": {},
   "source": [
    "### Convert `Oscar Winners` to gategorical numerical values"
   ]
  },
  {
   "cell_type": "code",
   "execution_count": 365,
   "metadata": {},
   "outputs": [],
   "source": [
    "df['Oscar Winners'] = df[\"Oscar Winners\"].notnull().astype(\"int\")"
   ]
  },
  {
   "cell_type": "markdown",
   "metadata": {},
   "source": [
    "### Fix decimal points"
   ]
  },
  {
   "cell_type": "code",
   "execution_count": 366,
   "metadata": {},
   "outputs": [],
   "source": [
    "df = df.replace(',','', regex=True)\n",
    "# df = df.astype('float32')"
   ]
  },
  {
   "cell_type": "markdown",
   "metadata": {},
   "source": [
    "### Balance Classes"
   ]
  },
  {
   "cell_type": "code",
   "execution_count": 367,
   "metadata": {},
   "outputs": [],
   "source": [
    "df_oscar_winners = df[df['Oscar Winners'] == 1]"
   ]
  },
  {
   "cell_type": "code",
   "execution_count": 368,
   "metadata": {},
   "outputs": [],
   "source": [
    "df_no_oscar_winners = df[df['Oscar Winners'] != 1]\n",
    "df_no_oscar_winners = df_no_oscar_winners.sample(56)"
   ]
  },
  {
   "cell_type": "code",
   "execution_count": 369,
   "metadata": {},
   "outputs": [],
   "source": [
    "frames = [df_oscar_winners, df_no_oscar_winners] \n",
    "df = pd.concat(frames)\n",
    "df = df.sample(frac=1)"
   ]
  },
  {
   "cell_type": "markdown",
   "metadata": {},
   "source": [
    "## 2. Classification"
   ]
  },
  {
   "cell_type": "markdown",
   "metadata": {},
   "source": [
    "### Prepare training and testing splits"
   ]
  },
  {
   "cell_type": "code",
   "execution_count": 370,
   "metadata": {},
   "outputs": [],
   "source": [
    "features = df.drop(['Oscar Winners'], axis=1)\n",
    "labels = df['Oscar Winners']\n",
    "\n",
    "X = torch.from_numpy(features.to_numpy(dtype='float32'))\n",
    "y = torch.from_numpy(labels.to_numpy(dtype='float32'))"
   ]
  },
  {
   "cell_type": "code",
   "execution_count": 371,
   "metadata": {},
   "outputs": [
    {
     "data": {
      "text/plain": [
       "(torch.Size([112, 37]), torch.Size([112]))"
      ]
     },
     "execution_count": 371,
     "metadata": {},
     "output_type": "execute_result"
    }
   ],
   "source": [
    "X.shape, y.shape"
   ]
  },
  {
   "cell_type": "code",
   "execution_count": 372,
   "metadata": {},
   "outputs": [],
   "source": [
    "# Split at 30%\n",
    "split_idx = int(X.shape[0] * 0.7)\n",
    "X_train, X_test = X[:split_idx], X[split_idx:]\n",
    "y_train, y_test = y[:split_idx].unsqueeze(dim=1), y[split_idx:].unsqueeze(dim=1)"
   ]
  },
  {
   "cell_type": "code",
   "execution_count": 373,
   "metadata": {},
   "outputs": [
    {
     "data": {
      "text/plain": [
       "(torch.Size([78, 37]),\n",
       " torch.Size([34, 37]),\n",
       " torch.Size([78, 1]),\n",
       " torch.Size([34, 1]))"
      ]
     },
     "execution_count": 373,
     "metadata": {},
     "output_type": "execute_result"
    }
   ],
   "source": [
    "X_train.shape, X_test.shape, y_train.shape, y_test.shape"
   ]
  },
  {
   "cell_type": "code",
   "execution_count": 374,
   "metadata": {},
   "outputs": [
    {
     "data": {
      "text/plain": [
       "(torch.float32, torch.float32, torch.float32, torch.float32)"
      ]
     },
     "execution_count": 374,
     "metadata": {},
     "output_type": "execute_result"
    }
   ],
   "source": [
    "X_train.dtype, X_test.dtype, y_train.dtype, y_test.dtype"
   ]
  },
  {
   "cell_type": "markdown",
   "metadata": {},
   "source": [
    "### Normalization"
   ]
  },
  {
   "cell_type": "code",
   "execution_count": 375,
   "metadata": {},
   "outputs": [],
   "source": [
    "# X_train[:3]"
   ]
  },
  {
   "cell_type": "code",
   "execution_count": 376,
   "metadata": {},
   "outputs": [],
   "source": [
    "# from torch.nn.functional import normalize\n",
    "# X_train_norm = normalize(X_train, p=2.0, dim=0)\n",
    "# X_test_norm = normalize(X_test, p=2.0, dim=0)\n",
    "# y_train_norm = normalize(y_train, p=2.0, dim=0)\n",
    "# y_test_norm = normalize(y_test, p=2.0, dim=0)"
   ]
  },
  {
   "cell_type": "code",
   "execution_count": 377,
   "metadata": {},
   "outputs": [],
   "source": [
    "# X_train_norm[:3]"
   ]
  },
  {
   "cell_type": "code",
   "execution_count": 378,
   "metadata": {},
   "outputs": [],
   "source": [
    "# X_train, X_test, y_train, y_test = X_train_norm, X_test_norm, y_train_norm, y_test_norm"
   ]
  },
  {
   "cell_type": "markdown",
   "metadata": {},
   "source": [
    "### Define classification neural network"
   ]
  },
  {
   "cell_type": "markdown",
   "metadata": {},
   "source": [
    "#### Models\n",
    "- 37 - 20 - 1 -- 10000 - seed 42:    7/16"
   ]
  },
  {
   "cell_type": "code",
   "execution_count": 379,
   "metadata": {},
   "outputs": [],
   "source": [
    "class OscarClassification(nn.Module):\n",
    "    def __init__(self, input_features: int, output_features: int):\n",
    "        super(OscarClassification, self).__init__()\n",
    "        self.layer_stack = nn.Sequential(\n",
    "            nn.Linear(in_features=input_features, out_features=10),\n",
    "            nn.ReLU(),\n",
    "            # nn.Linear(in_features=20, out_features=20, dtype=torch.float32),\n",
    "            # nn.ReLU(),\n",
    "            nn.Linear(in_features=10, out_features=output_features)\n",
    "        )\n",
    "    \n",
    "    def forward(self, x: torch.Tensor):\n",
    "        return self.layer_stack(x)"
   ]
  },
  {
   "cell_type": "markdown",
   "metadata": {},
   "source": [
    "### Define loss, optimizer and accuracy functions and initialize model"
   ]
  },
  {
   "cell_type": "code",
   "execution_count": 380,
   "metadata": {},
   "outputs": [],
   "source": [
    "# Calculate accuracy\n",
    "def accuracy_fn(y_pred, y_true):\n",
    "    # print(f'prediction {y_pred} true: {y_true} ')\n",
    "    correct = torch.eq(y_true, y_pred).sum().item()\n",
    "    return (correct / len(y_pred)) * 100"
   ]
  },
  {
   "cell_type": "code",
   "execution_count": 381,
   "metadata": {},
   "outputs": [
    {
     "name": "stdout",
     "output_type": "stream",
     "text": [
      "Device used: cuda\n"
     ]
    }
   ],
   "source": [
    "# Setup device\n",
    "device = 'cuda' if torch.cuda.is_available() else 'cpu'\n",
    "# device = 'cpu'\n",
    "print(f'Device used: {device}')\n",
    "\n",
    "# Initialize model\n",
    "model = OscarClassification(input_features=X_train.shape[1], output_features=1).to(device)\n",
    "\n",
    "# Accuracy function\n",
    "# accuracy_fn = BinaryAccuracy().to(device) # metric(preds, target)\n",
    "\n",
    "# Loss function\n",
    "loss_fn = torch.nn.BCEWithLogitsLoss().to(device)\n",
    "\n",
    "# Optimizer function\n",
    "# optimizer = torch.optim.SGD(model.parameters(), lr=0.01)\n",
    "optimizer= torch.optim.Adam(model.parameters(), lr=0.01)\n"
   ]
  },
  {
   "cell_type": "markdown",
   "metadata": {},
   "source": [
    "## Training loop"
   ]
  },
  {
   "cell_type": "code",
   "execution_count": 382,
   "metadata": {},
   "outputs": [
    {
     "data": {
      "application/vnd.jupyter.widget-view+json": {
       "model_id": "8ea12f6dc54b4a4e974c2a47f76f02ca",
       "version_major": 2,
       "version_minor": 0
      },
      "text/plain": [
       "Training...:   0%|          | 0/200 [00:00<?, ?it/s]"
      ]
     },
     "metadata": {},
     "output_type": "display_data"
    },
    {
     "name": "stdout",
     "output_type": "stream",
     "text": [
      "Epoch: 0000 | Loss: 2.3845, Acc: 47.44% | Test Loss: 1.2219, Test Acc: 29.41%\n",
      "Epoch: 0020 | Loss: 0.4071, Acc: 76.92% | Test Loss: 0.3190, Test Acc: 91.18%\n",
      "Epoch: 0040 | Loss: 0.3013, Acc: 84.62% | Test Loss: 0.2785, Test Acc: 88.24%\n",
      "Epoch: 0060 | Loss: 0.2381, Acc: 87.18% | Test Loss: 0.3033, Test Acc: 82.35%\n",
      "Epoch: 0080 | Loss: 0.1993, Acc: 88.46% | Test Loss: 0.2977, Test Acc: 82.35%\n",
      "Epoch: 0100 | Loss: 0.1707, Acc: 89.74% | Test Loss: 0.3122, Test Acc: 79.41%\n",
      "Epoch: 0120 | Loss: 0.1493, Acc: 91.03% | Test Loss: 0.2909, Test Acc: 82.35%\n",
      "Epoch: 0140 | Loss: 0.1356, Acc: 92.31% | Test Loss: 0.2997, Test Acc: 82.35%\n",
      "Epoch: 0160 | Loss: 0.1242, Acc: 92.31% | Test Loss: 0.2834, Test Acc: 82.35%\n",
      "Epoch: 0180 | Loss: 0.1115, Acc: 96.15% | Test Loss: 0.2781, Test Acc: 94.12%\n",
      "Epoch: 0199 | Loss: 0.1052, Acc: 97.44% | Test Loss: 0.2563, Test Acc: 97.06%\n"
     ]
    }
   ],
   "source": [
    "# torch.use_deterministic_algorithms(True)\n",
    "torch.manual_seed(42)\n",
    "\n",
    "epochs = 200\n",
    "\n",
    "X_train, y_train, X_test, y_test = X_train.to(device), y_train.to(device), X_test.to(device), y_test.to(device)\n",
    "\n",
    "# start_time = timer()\n",
    "# start_resources = psutil.cpu_times()\n",
    "\n",
    "for epoch in tqdm(range(epochs), desc='Training...'):\n",
    "    model.train()\n",
    "\n",
    "    # 1. Forward passs\n",
    "    y_hat = model(X_train)\n",
    "    loss = loss_fn(y_hat, y_train)    \n",
    "\n",
    "    optimizer.zero_grad()\n",
    "    loss.backward()\n",
    "    optimizer.step()\n",
    "\n",
    "    # Calculate prediction accuracy\n",
    "    y_train_pred = torch.round(torch.sigmoid(y_hat))        #if not using sigmoid on model output\n",
    "    acc = accuracy_fn(y_pred=y_train_pred, y_true=y_train)\n",
    "\n",
    "    ### Testing\n",
    "    model.eval()\n",
    "    with torch.inference_mode():\n",
    "\n",
    "        y_hat = model(X_test)\n",
    "\n",
    "        test_loss = loss_fn(y_hat, y_test)\n",
    "\n",
    "        y_test_pred = torch.round(torch.sigmoid(y_hat))\n",
    "\n",
    "        test_acc = accuracy_fn(y_pred=y_test_pred, y_true=y_test)\n",
    "\n",
    "    if epoch % int(epochs/10) == 0 or epoch == epochs-1:\n",
    "        print(f'Epoch: {epoch:04d} | Loss: {loss:.4f}, Acc: {acc:.2f}% | Test Loss: {test_loss:.4f}, Test Acc: {test_acc:.2f}%')\n",
    "\n",
    "# end_time = timer()\n",
    "# end_resources = start_resources = psutil.cpu_times()\n",
    "\n",
    "# print(f'Resources: {start_resources}')\n",
    "\n",
    "\n",
    "# print_train_time(start=start_time, end=end_time, device=device)"
   ]
  },
  {
   "cell_type": "markdown",
   "metadata": {},
   "source": [
    "### Test on test split"
   ]
  },
  {
   "cell_type": "code",
   "execution_count": 383,
   "metadata": {},
   "outputs": [
    {
     "name": "stdout",
     "output_type": "stream",
     "text": [
      "Test total accuracy: 97.06%\n"
     ]
    }
   ],
   "source": [
    "with torch.inference_mode():\n",
    "    X_test, y_test = X_test.to(device), y_test.to(device)\n",
    "    y_test_logits = model(X_test)\n",
    "    y_test_pred = torch.round(torch.sigmoid(y_test_logits))\n",
    "print(f'Test total accuracy: {accuracy_fn(y_pred=y_test_pred, y_true=y_test):.2f}%')"
   ]
  },
  {
   "cell_type": "code",
   "execution_count": 384,
   "metadata": {},
   "outputs": [
    {
     "name": "stdout",
     "output_type": "stream",
     "text": [
      "Correct oscar guesses: 18 out of 19\n"
     ]
    }
   ],
   "source": [
    "correct_oscar_guesses = 0\n",
    "total_oscars = 0\n",
    "for pred, truth in zip(y_test_logits, y_test):\n",
    "    if truth == 1:\n",
    "        total_oscars += 1\n",
    "        if torch.round(torch.sigmoid(pred)) == 1:\n",
    "            correct_oscar_guesses += 1\n",
    "    \n",
    "\n",
    "print(f'Correct oscar guesses: {correct_oscar_guesses} out of {total_oscars}')"
   ]
  },
  {
   "cell_type": "markdown",
   "metadata": {},
   "source": [
    "### Problem"
   ]
  },
  {
   "cell_type": "markdown",
   "metadata": {},
   "source": [
    "Model tends to predict no oscars with \"high accuracy\" because oscar winning movies are very few"
   ]
  }
 ],
 "metadata": {
  "kernelspec": {
   "display_name": "Python 3",
   "language": "python",
   "name": "python3"
  },
  "language_info": {
   "codemirror_mode": {
    "name": "ipython",
    "version": 3
   },
   "file_extension": ".py",
   "mimetype": "text/x-python",
   "name": "python",
   "nbconvert_exporter": "python",
   "pygments_lexer": "ipython3",
   "version": "3.10.12"
  }
 },
 "nbformat": 4,
 "nbformat_minor": 2
}
